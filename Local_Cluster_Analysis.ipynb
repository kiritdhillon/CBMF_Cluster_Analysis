{
 "cells": [
  {
   "cell_type": "markdown",
   "metadata": {},
   "source": [
    "<p style=\"font-size:30px; text-align:center; line-height:120%\">\n",
    "    <br> \n",
    "        <b>\n",
    "        COMS 4761 Computational Genomics \n",
    "        <br></br>\n",
    "            Protein Structure Prediction\n",
    "        <br></br>\n",
    "        </b> \n",
    "    <br> \n",
    "</p>\n",
    "<p style=\"font-size:18px; text-align:left; line-height:120%\">\n",
    "    <br> \n",
    "        <b>\n",
    "        Name: Anushri Arora, Kirit Dhillon\n",
    "        </b>\n",
    "    <br> \n",
    "</p>"
   ]
  },
  {
   "cell_type": "code",
   "execution_count": 34,
   "metadata": {
    "colab": {},
    "colab_type": "code",
    "id": "zTOyulv0LSm0"
   },
   "outputs": [],
   "source": [
    "import pandas as pd\n",
    "import numpy as np\n",
    "from gensim.models import KeyedVectors\n",
    "from networkx.algorithms.components.connected import connected_components\n",
    "import warnings\n",
    "import networkx\n",
    "import numpy as np\n",
    "import json\n",
    "import nltk\n",
    "from nltk.corpus import stopwords\n",
    "import pprint\n",
    "import matplotlib as mpl\n",
    "import matplotlib.pyplot as plt"
   ]
  },
  {
   "cell_type": "code",
   "execution_count": 64,
   "metadata": {
    "colab": {
     "base_uri": "https://localhost:8080/",
     "height": 235
    },
    "colab_type": "code",
    "id": "fj38LbQXLfAU",
    "outputId": "aec87cd9-3191-4bb1-9402-17dda96e42ad"
   },
   "outputs": [
    {
     "name": "stdout",
     "output_type": "stream",
     "text": [
      "(206, 7)\n"
     ]
    }
   ],
   "source": [
    "#df = pd.read_csv('/content/drive/My Drive/small_kaggle_clean.csv')\n",
    "df = pd.read_csv('small_kaggle_clean.csv')\n",
    "print(df.shape)"
   ]
  },
  {
   "cell_type": "markdown",
   "metadata": {},
   "source": [
    "### Preprocessing"
   ]
  },
  {
   "cell_type": "code",
   "execution_count": 65,
   "metadata": {
    "colab": {},
    "colab_type": "code",
    "id": "2aX4cDKzLe93"
   },
   "outputs": [],
   "source": [
    "def preprocess(df):\n",
    "    print(\"Shape before preprocessing: \",df.shape)\n",
    "    df = df.drop_duplicates(subset='seq', keep=\"first\")\n",
    "    for index, row in df.iterrows():\n",
    "        if len(row['seq']) % 3 != 0 or '*' in row['seq']:\n",
    "            df.drop(index, inplace=True)\n",
    "    print(\"Shape after preprocessing: \" ,df.shape)\n",
    "    return df"
   ]
  },
  {
   "cell_type": "code",
   "execution_count": 66,
   "metadata": {},
   "outputs": [
    {
     "name": "stdout",
     "output_type": "stream",
     "text": [
      "Shape before preprocessing:  (206, 7)\n",
      "Shape after preprocessing:  (49, 7)\n"
     ]
    }
   ],
   "source": [
    "df = preprocess(df)\n",
    "df = df.reset_index(drop=True)"
   ]
  },
  {
   "cell_type": "code",
   "execution_count": 67,
   "metadata": {},
   "outputs": [
    {
     "name": "stdout",
     "output_type": "stream",
     "text": [
      "  pdb_id chain_code              seq             sst8             sst3  len  \\\n",
      "0   3N9L          B  ARTKQTARKSTGGKA  CCEEECCCCCCCCCC  CCEEECCCCCCCCCC   15   \n",
      "1   3O6L          C  EPVDPKLEPWKHPGS  CCSSCCCCTTCCCCC  CCCCCCCCCCCCCCC   15   \n",
      "2   3O7L          I  VQYLTRSAIRRASTI  CCCCSTTTSCCCCCC  CCCCCCCCCCCCCCC   15   \n",
      "3   3OQY          a  KETAAAKFERQHMDS  CCCHHHHHHHHHBCC  CCCHHHHHHHHHECC   15   \n",
      "4   3PGC          C  KMRMATPLLMQALPM  CCCCCCCCCCEECCC  CCCCCCCCCCEECCC   15   \n",
      "5   3PTH          B  ELNPNAEVWGAPVLH  CCCTTCCCTTCCCCC  CCCCCCCCCCCCCCC   15   \n",
      "6   3QXA          C  PVSKMRMATPLLMQA  CCCBCCCCCCCCCCC  CCCECCCCCCCCCCC   15   \n",
      "7   3RC0          P  RKRTYETFKSIMKKS  CCCCCCCSBCCCCCC  CCCCCCCCECCCCCC   15   \n",
      "8   3SVM          P  YEPSTTARKVGRPGR  CCCCCEECCSCCCCC  CCCCCEECCCCCCCC   15   \n",
      "9   3U86          B  SPGRLFPGAPPTAKK  CCCCCSTTCCCCSCC  CCCCCCCCCCCCCCC   15   \n",
      "\n",
      "   has_nonstd_aa  \n",
      "0          False  \n",
      "1          False  \n",
      "2          False  \n",
      "3          False  \n",
      "4          False  \n",
      "5          False  \n",
      "6          False  \n",
      "7          False  \n",
      "8          False  \n",
      "9          False  \n"
     ]
    }
   ],
   "source": [
    "print(df.head(10))"
   ]
  },
  {
   "cell_type": "code",
   "execution_count": 68,
   "metadata": {
    "colab": {},
    "colab_type": "code",
    "id": "kQcX9Bz_Le79"
   },
   "outputs": [],
   "source": [
    "def process_n_dump_to_csv(data):\n",
    "    df = preprocess(data)\n",
    "    print(\"Size of dataframe: \", len(df))\n",
    "    df.to_csv(\"sentences.csv\")\n",
    "    return df"
   ]
  },
  {
   "cell_type": "code",
   "execution_count": 69,
   "metadata": {
    "colab": {
     "base_uri": "https://localhost:8080/",
     "height": 70
    },
    "colab_type": "code",
    "id": "PKoJ3navLe5k",
    "outputId": "77412f66-ed11-4fda-a0b3-7f7764f2c3dc"
   },
   "outputs": [],
   "source": [
    "wordmodelfile ='protVec_clean.txt'\n",
    "wordmodel = KeyedVectors.load_word2vec_format(wordmodelfile, binary = False, limit=200000)"
   ]
  },
  {
   "cell_type": "code",
   "execution_count": 70,
   "metadata": {
    "colab": {},
    "colab_type": "code",
    "id": "VhxtLnafLe28"
   },
   "outputs": [],
   "source": [
    "def seq_grams(s1):\n",
    "    '''\n",
    "    i/p:  protein sequence\n",
    "    o/p:  list where each element has 3 chars \n",
    "    '''\n",
    "    s1_words=[]\n",
    "    for count in range(0,len(s1)-2):\n",
    "        s1_words.append(s1[count:count+3])\n",
    "        count+=3\n",
    "    return s1_words\n",
    "\n",
    "def similarityIndex(s1, s2, wordmodel):\n",
    "    '''\n",
    "    To compare two protein sequences and return their similarity score based on the gensim model\n",
    "    '''\n",
    "    if s1 == s2:\n",
    "        return 1.0\n",
    "    \n",
    "    s1words = seq_grams(s1)\n",
    "    s2words = seq_grams(s2)\n",
    "\n",
    "    s1words = list(s1words)\n",
    "    s2words = list(s2words)    \n",
    "\n",
    "    s1set = set(s1words)\n",
    "    s2set = set(s2words)\n",
    "\n",
    "    vocab = wordmodel.vocab\n",
    "    \n",
    "    if len(s1set & s2set) == 0:\n",
    "        return 0.0\n",
    "    for word in s1set.copy():\n",
    "        if (word not in vocab):\n",
    "            s1words.remove(word)\n",
    "    for word in s2set.copy():\n",
    "        if (word not in vocab):\n",
    "            s2words.remove(word)\n",
    "    try:\n",
    "        s = wordmodel.n_similarity(s1words, s2words)\n",
    "    except:\n",
    "        s = 0\n",
    "    return s\n"
   ]
  },
  {
   "cell_type": "code",
   "execution_count": 71,
   "metadata": {
    "colab": {},
    "colab_type": "code",
    "id": "_D1FpC8wLe0p"
   },
   "outputs": [],
   "source": [
    "n = df.shape[0]\n",
    "similarity_matrix = [[-1 for c in range(n)] for r in range(n)]\n",
    "row = 0\n",
    "for seq_1 in df['seq']:\n",
    "    column = 0\n",
    "    for seq_2 in df['seq']:\n",
    "        if seq_1 == seq_2:\n",
    "            column += 1\n",
    "            continue\n",
    "        similarity_matrix[row][column] = similarityIndex(seq_1, seq_2, wordmodel)\n",
    "        column += 1\n",
    "    row += 1"
   ]
  },
  {
   "cell_type": "code",
   "execution_count": 72,
   "metadata": {
    "colab": {},
    "colab_type": "code",
    "id": "3Wy2Z1i7Leuc"
   },
   "outputs": [],
   "source": [
    "setlist = []\n",
    "index = 0\n",
    "for score_row, response in zip(similarity_matrix, df['seq']):\n",
    "    max_sim_index = index\n",
    "    if np.array(score_row).sum() > 0:\n",
    "        max_sim_index = np.array(score_row).argmax()\n",
    "    if set([response, df['seq'][max_sim_index]]) not in setlist:\n",
    "        setlist.append([response, df['seq'][max_sim_index]])\n",
    "    index += 1"
   ]
  },
  {
   "cell_type": "code",
   "execution_count": 73,
   "metadata": {
    "colab": {},
    "colab_type": "code",
    "id": "vttShZO6Ler9"
   },
   "outputs": [],
   "source": [
    "def toGraph(l):\n",
    "    '''\n",
    "    It takes in a list of lists and returns a graph object, \n",
    "    assigning nodes and edges from each sub-list object\n",
    "    '''\n",
    "    G = networkx.Graph()\n",
    "    for part in l:\n",
    "        G.add_nodes_from(part)\n",
    "        G.add_edges_from(toEdges(part))\n",
    "    return G\n",
    "\n",
    "def toEdges(l):\n",
    "    '''\n",
    "    It treats args(1) 'l' as a graph and returns (implicitly) it's edges \n",
    "    '''\n",
    "    it = iter(l)\n",
    "    last = next(it)\n",
    "\n",
    "    for current in it:\n",
    "        yield last, current\n",
    "        last = current "
   ]
  },
  {
   "cell_type": "code",
   "execution_count": 74,
   "metadata": {
    "colab": {
     "base_uri": "https://localhost:8080/",
     "height": 54
    },
    "colab_type": "code",
    "id": "kQhrD4_vLepY",
    "outputId": "cfce7138-0548-4aa7-8c38-11a11bfdcc4d"
   },
   "outputs": [],
   "source": [
    "G = toGraph(setlist)\n",
    "setlist = list(connected_components(G))"
   ]
  },
  {
   "cell_type": "code",
   "execution_count": 75,
   "metadata": {
    "colab": {
     "base_uri": "https://localhost:8080/",
     "height": 521
    },
    "colab_type": "code",
    "id": "LxZM-exxLdcU",
    "outputId": "e35b99f8-9413-45e8-e02f-18691a396b1f"
   },
   "outputs": [
    {
     "name": "stdout",
     "output_type": "stream",
     "text": [
      "{0: ['SPGRLFPGAPPTAKK',\n",
      "     'PVLFPGQPFGQPPLG',\n",
      "     'ARTKQTARKSTGGKA',\n",
      "     'YEPSTTARKVGRPGR'],\n",
      " 1: ['EPVDPKLEPWKHPGS'],\n",
      " 2: ['VQYLTRSAIRRASTI'],\n",
      " 3: ['KETAAAKFERQHMDS', 'KETAAACFERCHMDS'],\n",
      " 4: ['KMRMATPLLMQALPM', 'PVSKMRMATPLLMQA'],\n",
      " 5: ['HENIDWGEPKDKEVW', 'ELNPNAEVWGAPVLH'],\n",
      " 6: ['RKRTYETFKSIMKKS', 'LSRVKSLKKSLRQSF'],\n",
      " 7: ['AVPIAQKSEPHSLSS', 'PQAQQKSLLQQLLTE'],\n",
      " 8: ['RTFRQVQSSISDFYD'],\n",
      " 9: ['RHKILHRLLQEGSPS', 'LTERHKILHRLLQEG'],\n",
      " 10: ['LPQDRGFLVVQGDPR'],\n",
      " 11: ['APRRLPIFNRISVSE', 'KKESRVVVWRLPPLH'],\n",
      " 12: ['ASEDELVAEFLQDQN'],\n",
      " 13: ['DGTCVAARTRPVLSY', 'SPQGGGPWDSVARVL', 'NTGRTEAWKVLSPQG'],\n",
      " 14: ['STASTVEYSTVVHSG', 'KSAVTTVVNPKYEGK'],\n",
      " 15: ['GELIGILNAAKVPAD'],\n",
      " 16: ['RRRPRPPYLPRPRPP', 'GGRRRRRTWYFGGGK', 'DLSPRPSPNPHPVSQ'],\n",
      " 17: ['SLMRVQAHIRKRMVA', 'GSLLRVQAHIRKKMV'],\n",
      " 18: ['SQETFSDLWKLLPEN'],\n",
      " 19: ['QKVTFPKMKIPKFTF'],\n",
      " 20: ['TTGEIIGDIRQAHCN'],\n",
      " 21: ['ATEYRVRVNSAYQDK'],\n",
      " 22: ['NLGLEDIIRKALMGS'],\n",
      " 23: ['DFSIVGSLPRDFELS'],\n",
      " 24: ['APATGGVKKPHRYRP', 'SAPATGGVKKPHRYR'],\n",
      " 25: ['KMLEGQNAHFRYKNR'],\n",
      " 26: ['FLNKDLEVDGHFVTM'],\n",
      " 27: ['ADSTITIRGYVRDNG'],\n",
      " 28: ['RKTVAKPKGPSGSPW'],\n",
      " 29: ['DGVFTTPCDPEYAGG'],\n",
      " 30: ['SKQFTSSTSYNRGDS'],\n",
      " 31: ['SIDMVDSPQLATLAD']}\n"
     ]
    }
   ],
   "source": [
    "novel_sub_categories = {}\n",
    "index = 0\n",
    "for category in setlist:\n",
    "    novel_sub_categories[index] = list(category)\n",
    "    index += 1\n",
    "\n",
    "result = novel_sub_categories\n",
    "pprint.pprint(result)"
   ]
  },
  {
   "cell_type": "code",
   "execution_count": 76,
   "metadata": {
    "colab": {},
    "colab_type": "code",
    "id": "-dc29J_bLdZl"
   },
   "outputs": [],
   "source": [
    "with open('clusters.json', 'w') as temp:\n",
    "    json.dump(result, temp)"
   ]
  },
  {
   "cell_type": "code",
   "execution_count": 77,
   "metadata": {},
   "outputs": [
    {
     "data": {
      "image/png": "[encoded data removed]",
      "text/plain": [
       "<Figure size 576x576 with 1 Axes>"
      ]
     },
     "metadata": {
      "needs_background": "light"
     },
     "output_type": "display_data"
    }
   ],
   "source": [
    "fig = plt.figure(figsize=(8, 8))\n",
    "x = result.keys()\n",
    "y = [len(value) for value in result.values()]\n",
    "plt.bar(x, y)\n",
    "plt.title(\"Cluster sizes\", size=18)\n",
    "plt.xlabel(\"Cluster\", size = 16)\n",
    "plt.ylabel(\"No. of sequences\", size = 16)\n",
    "plt.tick_params(labelsize=15);"
   ]
  },
  {
   "cell_type": "code",
   "execution_count": 85,
   "metadata": {},
   "outputs": [],
   "source": [
    "# Get clusters with more than one sequence\n",
    "def get_multiple_seq_clusters(result):\n",
    "    clusters = {}\n",
    "    count = 0\n",
    "    for k, v in result.items():\n",
    "        if len(v) > 1:\n",
    "            clusters[count] = v\n",
    "            count+=1\n",
    "    return clusters"
   ]
  },
  {
   "cell_type": "code",
   "execution_count": 86,
   "metadata": {},
   "outputs": [
    {
     "name": "stdout",
     "output_type": "stream",
     "text": [
      "{0: ['SPGRLFPGAPPTAKK',\n",
      "     'PVLFPGQPFGQPPLG',\n",
      "     'ARTKQTARKSTGGKA',\n",
      "     'YEPSTTARKVGRPGR'],\n",
      " 1: ['KETAAAKFERQHMDS', 'KETAAACFERCHMDS'],\n",
      " 2: ['KMRMATPLLMQALPM', 'PVSKMRMATPLLMQA'],\n",
      " 3: ['HENIDWGEPKDKEVW', 'ELNPNAEVWGAPVLH'],\n",
      " 4: ['RKRTYETFKSIMKKS', 'LSRVKSLKKSLRQSF'],\n",
      " 5: ['AVPIAQKSEPHSLSS', 'PQAQQKSLLQQLLTE'],\n",
      " 6: ['RHKILHRLLQEGSPS', 'LTERHKILHRLLQEG'],\n",
      " 7: ['APRRLPIFNRISVSE', 'KKESRVVVWRLPPLH'],\n",
      " 8: ['DGTCVAARTRPVLSY', 'SPQGGGPWDSVARVL', 'NTGRTEAWKVLSPQG'],\n",
      " 9: ['STASTVEYSTVVHSG', 'KSAVTTVVNPKYEGK'],\n",
      " 10: ['RRRPRPPYLPRPRPP', 'GGRRRRRTWYFGGGK', 'DLSPRPSPNPHPVSQ'],\n",
      " 11: ['SLMRVQAHIRKRMVA', 'GSLLRVQAHIRKKMV'],\n",
      " 12: ['APATGGVKKPHRYRP', 'SAPATGGVKKPHRYR']}\n"
     ]
    }
   ],
   "source": [
    "clusters = get_multiple_seq_clusters(result)\n",
    "pprint.pprint(clusters)"
   ]
  },
  {
   "cell_type": "code",
   "execution_count": 133,
   "metadata": {},
   "outputs": [],
   "source": [
    "def compute_sst3_similarity(clusters):\n",
    "    sst3_similarities = {}\n",
    "    for key, cluster in clusters.items():\n",
    "        temp_sst3 = []\n",
    "        for seq in cluster:\n",
    "            hit = df.loc[df['seq'] == seq]\n",
    "            sst3 = np.array(hit['sst3'])[0]\n",
    "            if sst3 not in temp_sst3:\n",
    "                temp_sst3.append(sst3)\n",
    "        sst3_similarities[key] = 1 - len(temp_sst3)/len(cluster)\n",
    "    return sst3_similarities"
   ]
  },
  {
   "cell_type": "code",
   "execution_count": 134,
   "metadata": {},
   "outputs": [
    {
     "name": "stdout",
     "output_type": "stream",
     "text": [
      "{0: 0.25,\n",
      " 1: 0.5,\n",
      " 2: 0.0,\n",
      " 3: 0.5,\n",
      " 4: 0.0,\n",
      " 5: 0.0,\n",
      " 6: 0.0,\n",
      " 7: 0.0,\n",
      " 8: 0.0,\n",
      " 9: 0.0,\n",
      " 10: 0.0,\n",
      " 11: 0.0,\n",
      " 12: 0.0}\n"
     ]
    }
   ],
   "source": [
    "pprint.pprint(compute_sst3_similarity(clusters))"
   ]
  },
  {
   "cell_type": "code",
   "execution_count": 145,
   "metadata": {},
   "outputs": [],
   "source": [
    "def assign_color_to_ratio(ratios):\n",
    "    colors = []\n",
    "    for ratio in ratios:\n",
    "        if ratio < 0.25:\n",
    "            colors.append('red')\n",
    "        elif ratio < 0.5:\n",
    "            colors.append('orange')\n",
    "        else:\n",
    "            colors.append('green')\n",
    "    return colors"
   ]
  },
  {
   "cell_type": "code",
   "execution_count": 148,
   "metadata": {},
   "outputs": [
    {
     "data": {
      "text/plain": [
       "Text(0,0.5,'Similarity Ratio')"
      ]
     },
     "execution_count": 148,
     "metadata": {},
     "output_type": "execute_result"
    },
    {
     "data": {
      "image/png": "[encoded data removed]",
      "text/plain": [
       "<Figure size 576x576 with 1 Axes>"
      ]
     },
     "metadata": {
      "needs_background": "light"
     },
     "output_type": "display_data"
    }
   ],
   "source": [
    "fig = plt.figure(figsize=(8,8))\n",
    "sst3_similarities = compute_sst3_similarity(clusters)\n",
    "x = sst3_similarities.keys()\n",
    "y = sst3_similarities.values()\n",
    "color_vals = assign_color_to_ratio(y)\n",
    "plt.scatter(x, y, c=color_vals)\n",
    "plt.title(\"SST3 Similarity\", size=18)\n",
    "plt.xlabel(\"Cluster Index\", size=16)\n",
    "plt.ylabel(\"Similarity Ratio\", size=16)"
   ]
  },
  {
   "cell_type": "markdown",
   "metadata": {},
   "source": [
    "### Results\n",
    "The above plot shows the degree of similarity of secondary structures between sequences within each cluster. \n",
    "- Red = uncorrelated SST3\n",
    "- Green = correlated SST3"
   ]
  },
  {
   "cell_type": "code",
   "execution_count": null,
   "metadata": {},
   "outputs": [],
   "source": []
  }
 ],
 "metadata": {
  "colab": {
   "name": "Cluster_Analysis.ipynb",
   "provenance": []
  },
  "kernelspec": {
   "display_name": "Python 3",
   "language": "python",
   "name": "python3"
  },
  "language_info": {
   "codemirror_mode": {
    "name": "ipython",
    "version": 3
   },
   "file_extension": ".py",
   "mimetype": "text/x-python",
   "name": "python",
   "nbconvert_exporter": "python",
   "pygments_lexer": "ipython3",
   "version": "3.7.4"
  }
 },
 "nbformat": 4,
 "nbformat_minor": 1
}
