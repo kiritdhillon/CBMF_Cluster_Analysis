{
  "nbformat": 4,
  "nbformat_minor": 0,
  "metadata": {
    "colab": {
      "name": "Cluster_Analysis.ipynb",
      "provenance": []
    },
    "kernelspec": {
      "name": "python3",
      "display_name": "Python 3"
    }
  },
  "cells": [
    {
      "cell_type": "code",
      "metadata": {
        "id": "zTOyulv0LSm0",
        "colab_type": "code",
        "colab": {}
      },
      "source": [
        "import pandas as pd\n",
        "import numpy as np\n",
        "from gensim.models import KeyedVectors\n",
        "from networkx.algorithms.components.connected import connected_components\n",
        "import warnings\n",
        "import networkx\n",
        "import numpy as np\n",
        "import json\n",
        "import nltk\n",
        "from nltk.corpus import stopwords\n",
        "import pprint"
      ],
      "execution_count": 0,
      "outputs": []
    },
    {
      "cell_type": "code",
      "metadata": {
        "id": "eNxRYt4MM83K",
        "colab_type": "code",
        "colab": {
          "base_uri": "https://localhost:8080/",
          "height": 34
        },
        "outputId": "eb73f95e-bf77-427d-e2d1-1c0f41ee36ca"
      },
      "source": [
        "from google.colab import drive\n",
        "drive.mount('/content/drive')"
      ],
      "execution_count": 8,
      "outputs": [
        {
          "output_type": "stream",
          "text": [
            "Drive already mounted at /content/drive; to attempt to forcibly remount, call drive.mount(\"/content/drive\", force_remount=True).\n"
          ],
          "name": "stdout"
        }
      ]
    },
    {
      "cell_type": "code",
      "metadata": {
        "id": "fj38LbQXLfAU",
        "colab_type": "code",
        "colab": {
          "base_uri": "https://localhost:8080/",
          "height": 235
        },
        "outputId": "aec87cd9-3191-4bb1-9402-17dda96e42ad"
      },
      "source": [
        "df = pd.read_csv('/content/drive/My Drive/small_kaggle_clean.csv')\n",
        "print(df.shape)\n",
        "df['sst3']"
      ],
      "execution_count": 19,
      "outputs": [
        {
          "output_type": "stream",
          "text": [
            "(206, 7)\n"
          ],
          "name": "stdout"
        },
        {
          "output_type": "execute_result",
          "data": {
            "text/plain": [
              "0      CCEEECCCCCCCCCC\n",
              "1      CCEEECCCCCCCCCC\n",
              "2      CCEEECCCCCCCCCC\n",
              "3      CCCCCCCCCCCCCCC\n",
              "4      CCCCCCCCCCCCCCC\n",
              "            ...       \n",
              "201    CCCCCCCCCCCCCCC\n",
              "202    CCCCCCCCCCCCCCC\n",
              "203    CCCCCCCCCECCCCC\n",
              "204    CCCCCCCCCCCCCCC\n",
              "205    CCCCCCCCCCCCCCC\n",
              "Name: sst3, Length: 206, dtype: object"
            ]
          },
          "metadata": {
            "tags": []
          },
          "execution_count": 19
        }
      ]
    },
    {
      "cell_type": "code",
      "metadata": {
        "id": "2aX4cDKzLe93",
        "colab_type": "code",
        "colab": {}
      },
      "source": [
        "def preprocess(df):\n",
        "\n",
        "    print(\"Original: \",df.shape)\n",
        "    for index, row in df.iterrows():\n",
        "        if index < 3500:\n",
        "        # print(index)\n",
        "            if len(row['seq']) % 3 != 0 or '*' in row['seq']:\n",
        "                df.drop(index, inplace=True)\n",
        "        else:\n",
        "            break\n",
        "\n",
        "    print(\"New: \" ,df.shape)\n",
        "    print(df['seq'].head(10))\n",
        "    \n",
        "    return df['seq']"
      ],
      "execution_count": 0,
      "outputs": []
    },
    {
      "cell_type": "code",
      "metadata": {
        "id": "kQcX9Bz_Le79",
        "colab_type": "code",
        "colab": {}
      },
      "source": [
        "def process_n_dump_to_csv(data):\n",
        "    df = preprocess(data)\n",
        "    print(\"Size of dataframe: \", len(df))\n",
        "    df.to_csv(\"sentences.csv\")\n",
        "    return df\n"
      ],
      "execution_count": 0,
      "outputs": []
    },
    {
      "cell_type": "code",
      "metadata": {
        "id": "PKoJ3navLe5k",
        "colab_type": "code",
        "colab": {
          "base_uri": "https://localhost:8080/",
          "height": 70
        },
        "outputId": "77412f66-ed11-4fda-a0b3-7f7764f2c3dc"
      },
      "source": [
        "wordmodelfile ='/content/drive/My Drive/protVec_clean.txt'\n",
        "wordmodel = KeyedVectors.load_word2vec_format(wordmodelfile, binary = False, limit=200000)"
      ],
      "execution_count": 9,
      "outputs": [
        {
          "output_type": "stream",
          "text": [
            "/usr/local/lib/python3.6/dist-packages/smart_open/smart_open_lib.py:253: UserWarning: This function is deprecated, use smart_open.open instead. See the migration notes for details: https://github.com/RaRe-Technologies/smart_open/blob/master/README.rst#migrating-to-the-new-open-function\n",
            "  'See the migration notes for details: %s' % _MIGRATION_NOTES_URL\n"
          ],
          "name": "stderr"
        }
      ]
    },
    {
      "cell_type": "code",
      "metadata": {
        "id": "VhxtLnafLe28",
        "colab_type": "code",
        "colab": {}
      },
      "source": [
        "def seq_grams(s1):\n",
        "    '''\n",
        "    i/p:  protein sequence\n",
        "    o/p:  list where each element has 3 chars \n",
        "    '''\n",
        "    s1_words=[]\n",
        "    for count in range(0,len(s1)-2):\n",
        "        s1_words.append(s1[count:count+3])\n",
        "        count+=3\n",
        "    return s1_words\n",
        "\n",
        "def similarityIndex(s1, s2, wordmodel):\n",
        "    '''\n",
        "    To compare two protein sequences and return their similarity score based on the gensim model\n",
        "    '''\n",
        "    if s1 == s2:\n",
        "        return 1.0\n",
        "    \n",
        "    s1words = seq_grams(s1)\n",
        "    s2words = seq_grams(s2)\n",
        "\n",
        "    s1words = list(s1words)\n",
        "    s2words = list(s2words)    \n",
        "\n",
        "    s1set = set(s1words)\n",
        "    s2set = set(s2words)\n",
        "\n",
        "    vocab = wordmodel.vocab\n",
        "    \n",
        "    if len(s1set & s2set) == 0:\n",
        "        return 0.0\n",
        "    for word in s1set.copy():\n",
        "        if (word not in vocab):\n",
        "            s1words.remove(word)\n",
        "    for word in s2set.copy():\n",
        "        if (word not in vocab):\n",
        "            s2words.remove(word)\n",
        "    try:\n",
        "        s = wordmodel.n_similarity(s1words, s2words)\n",
        "    except:\n",
        "        s = 0\n",
        "    return s\n"
      ],
      "execution_count": 0,
      "outputs": []
    },
    {
      "cell_type": "code",
      "metadata": {
        "id": "_D1FpC8wLe0p",
        "colab_type": "code",
        "colab": {}
      },
      "source": [
        "n = df.shape[0]\n",
        "similarity_matrix = [[-1 for c in range(n)] for r in range(n)]"
      ],
      "execution_count": 0,
      "outputs": []
    },
    {
      "cell_type": "code",
      "metadata": {
        "id": "6Td7SPsPLexM",
        "colab_type": "code",
        "colab": {
          "base_uri": "https://localhost:8080/",
          "height": 1000
        },
        "outputId": "4001be33-db99-4e9c-d181-65296b9e7438"
      },
      "source": [
        "row = 0\n",
        "for seq_1 in df['seq']:\n",
        "    column = 0\n",
        "    for seq_2 in df['seq']:\n",
        "        if seq_1 == seq_2:\n",
        "            column += 1\n",
        "            continue\n",
        "        similarity_matrix[row][column] = similarityIndex(seq_1, seq_2, wordmodel)\n",
        "        column += 1\n",
        "    print(\"Row: \",row)\n",
        "    row += 1\n"
      ],
      "execution_count": 12,
      "outputs": [
        {
          "output_type": "stream",
          "text": [
            "/usr/local/lib/python3.6/dist-packages/gensim/matutils.py:737: FutureWarning: Conversion of the second argument of issubdtype from `int` to `np.signedinteger` is deprecated. In future, it will be treated as `np.int64 == np.dtype(int).type`.\n",
            "  if np.issubdtype(vec.dtype, np.int):\n"
          ],
          "name": "stderr"
        },
        {
          "output_type": "stream",
          "text": [
            "Row:  0\n",
            "Row:  1\n",
            "Row:  2\n",
            "Row:  3\n",
            "Row:  4\n",
            "Row:  5\n",
            "Row:  6\n",
            "Row:  7\n",
            "Row:  8\n",
            "Row:  9\n",
            "Row:  10\n",
            "Row:  11\n",
            "Row:  12\n",
            "Row:  13\n",
            "Row:  14\n",
            "Row:  15\n",
            "Row:  16\n",
            "Row:  17\n",
            "Row:  18\n",
            "Row:  19\n",
            "Row:  20\n",
            "Row:  21\n",
            "Row:  22\n",
            "Row:  23\n",
            "Row:  24\n",
            "Row:  25\n",
            "Row:  26\n",
            "Row:  27\n",
            "Row:  28\n",
            "Row:  29\n",
            "Row:  30\n",
            "Row:  31\n",
            "Row:  32\n",
            "Row:  33\n",
            "Row:  34\n",
            "Row:  35\n",
            "Row:  36\n",
            "Row:  37\n",
            "Row:  38\n",
            "Row:  39\n",
            "Row:  40\n",
            "Row:  41\n",
            "Row:  42\n",
            "Row:  43\n",
            "Row:  44\n",
            "Row:  45\n",
            "Row:  46\n",
            "Row:  47\n",
            "Row:  48\n",
            "Row:  49\n",
            "Row:  50\n",
            "Row:  51\n",
            "Row:  52\n",
            "Row:  53\n",
            "Row:  54\n",
            "Row:  55\n",
            "Row:  56\n",
            "Row:  57\n",
            "Row:  58\n",
            "Row:  59\n",
            "Row:  60\n",
            "Row:  61\n",
            "Row:  62\n",
            "Row:  63\n",
            "Row:  64\n",
            "Row:  65\n",
            "Row:  66\n",
            "Row:  67\n",
            "Row:  68\n",
            "Row:  69\n",
            "Row:  70\n",
            "Row:  71\n",
            "Row:  72\n",
            "Row:  73\n",
            "Row:  74\n",
            "Row:  75\n",
            "Row:  76\n",
            "Row:  77\n",
            "Row:  78\n",
            "Row:  79\n",
            "Row:  80\n",
            "Row:  81\n",
            "Row:  82\n",
            "Row:  83\n",
            "Row:  84\n",
            "Row:  85\n",
            "Row:  86\n",
            "Row:  87\n",
            "Row:  88\n",
            "Row:  89\n",
            "Row:  90\n",
            "Row:  91\n",
            "Row:  92\n",
            "Row:  93\n",
            "Row:  94\n",
            "Row:  95\n",
            "Row:  96\n",
            "Row:  97\n",
            "Row:  98\n",
            "Row:  99\n",
            "Row:  100\n",
            "Row:  101\n",
            "Row:  102\n",
            "Row:  103\n",
            "Row:  104\n",
            "Row:  105\n",
            "Row:  106\n",
            "Row:  107\n",
            "Row:  108\n",
            "Row:  109\n",
            "Row:  110\n",
            "Row:  111\n",
            "Row:  112\n",
            "Row:  113\n",
            "Row:  114\n",
            "Row:  115\n",
            "Row:  116\n",
            "Row:  117\n",
            "Row:  118\n",
            "Row:  119\n",
            "Row:  120\n",
            "Row:  121\n",
            "Row:  122\n",
            "Row:  123\n",
            "Row:  124\n",
            "Row:  125\n",
            "Row:  126\n",
            "Row:  127\n",
            "Row:  128\n",
            "Row:  129\n",
            "Row:  130\n",
            "Row:  131\n",
            "Row:  132\n",
            "Row:  133\n",
            "Row:  134\n",
            "Row:  135\n",
            "Row:  136\n",
            "Row:  137\n",
            "Row:  138\n",
            "Row:  139\n",
            "Row:  140\n",
            "Row:  141\n",
            "Row:  142\n",
            "Row:  143\n",
            "Row:  144\n",
            "Row:  145\n",
            "Row:  146\n",
            "Row:  147\n",
            "Row:  148\n",
            "Row:  149\n",
            "Row:  150\n",
            "Row:  151\n",
            "Row:  152\n",
            "Row:  153\n",
            "Row:  154\n",
            "Row:  155\n",
            "Row:  156\n",
            "Row:  157\n",
            "Row:  158\n",
            "Row:  159\n",
            "Row:  160\n",
            "Row:  161\n",
            "Row:  162\n",
            "Row:  163\n",
            "Row:  164\n",
            "Row:  165\n",
            "Row:  166\n",
            "Row:  167\n",
            "Row:  168\n",
            "Row:  169\n",
            "Row:  170\n",
            "Row:  171\n",
            "Row:  172\n",
            "Row:  173\n",
            "Row:  174\n",
            "Row:  175\n",
            "Row:  176\n",
            "Row:  177\n",
            "Row:  178\n",
            "Row:  179\n",
            "Row:  180\n",
            "Row:  181\n",
            "Row:  182\n",
            "Row:  183\n",
            "Row:  184\n",
            "Row:  185\n",
            "Row:  186\n",
            "Row:  187\n",
            "Row:  188\n",
            "Row:  189\n",
            "Row:  190\n",
            "Row:  191\n",
            "Row:  192\n",
            "Row:  193\n",
            "Row:  194\n",
            "Row:  195\n",
            "Row:  196\n",
            "Row:  197\n",
            "Row:  198\n",
            "Row:  199\n",
            "Row:  200\n",
            "Row:  201\n",
            "Row:  202\n",
            "Row:  203\n",
            "Row:  204\n",
            "Row:  205\n"
          ],
          "name": "stdout"
        }
      ]
    },
    {
      "cell_type": "code",
      "metadata": {
        "id": "3Wy2Z1i7Leuc",
        "colab_type": "code",
        "colab": {}
      },
      "source": [
        "setlist = []\n",
        "index = 0\n",
        "for score_row, response in zip(similarity_matrix, df['seq']):\n",
        "    max_sim_index = index\n",
        "    if np.array(score_row).sum() > 0:\n",
        "        max_sim_index = np.array(score_row).argmax()\n",
        "    if set([response, df['seq'][max_sim_index]]) not in setlist:\n",
        "        setlist.append([response, df['seq'][max_sim_index]])\n",
        "    index += 1\n"
      ],
      "execution_count": 0,
      "outputs": []
    },
    {
      "cell_type": "code",
      "metadata": {
        "id": "vttShZO6Ler9",
        "colab_type": "code",
        "colab": {}
      },
      "source": [
        "\n",
        "def toGraph(l):\n",
        "    '''\n",
        "    It takes in a list of lists and returns a graph object, \n",
        "    assigning nodes and edges from each sub-list object\n",
        "    '''\n",
        "    G = networkx.Graph()\n",
        "    for part in l:\n",
        "        G.add_nodes_from(part)\n",
        "        G.add_edges_from(toEdges(part))\n",
        "    return G\n",
        "\n",
        "def toEdges(l):\n",
        "    '''\n",
        "    It treats args(1) 'l' as a graph and returns (implicitly) it's edges \n",
        "    '''\n",
        "    it = iter(l)\n",
        "    last = next(it)\n",
        "\n",
        "    for current in it:\n",
        "        yield last, current\n",
        "        last = current "
      ],
      "execution_count": 0,
      "outputs": []
    },
    {
      "cell_type": "code",
      "metadata": {
        "id": "kQhrD4_vLepY",
        "colab_type": "code",
        "colab": {
          "base_uri": "https://localhost:8080/",
          "height": 54
        },
        "outputId": "cfce7138-0548-4aa7-8c38-11a11bfdcc4d"
      },
      "source": [
        "G = toGraph(setlist)\n",
        "setlist = list(connected_components(G))\n",
        "print(setlist)"
      ],
      "execution_count": 15,
      "outputs": [
        {
          "output_type": "stream",
          "text": [
            "[{'ARTKQTARKSTGGKA'}, {'EPVDPKLEPWKHPGS'}, {'VQYLTRSAIRRASTI', 'STASTVEYSTVVHSG', 'KSAVTTVVNPKYEGK'}, {'KETAAAKFERQHMDS', 'KETAAACFERCHMDS', 'GELIGILNAAKVPAD'}, {'KMRMATPLLMQALPM', 'PVSKMRMATPLLMQA'}, {'ELNPNAEVWGAPVLH', 'HENIDWGEPKDKEVW'}, {'RKRTYETFKSIMKKS', 'LSRVKSLKKSLRQSF'}, {'PVLFPGQPFGQPPLG', 'SPGRLFPGAPPTAKK', 'YEPSTTARKVGRPGR'}, {'AVPIAQKSEPHSLSS', 'PQAQQKSLLQQLLTE'}, {'RTFRQVQSSISDFYD'}, {'RKTVAKPKGPSGSPW', 'RHKILHRLLQEGSPS', 'LTERHKILHRLLQEG'}, {'LPQDRGFLVVQGDPR'}, {'ECCHRQLLCCLRFV*'}, {'KKESRVVVWRLPPLH', 'APRRLPIFNRISVSE'}, {'ASEDELVAEFLQDQN'}, {'NTGRTEAWKVLSPQG', 'SPQGGGPWDSVARVL', 'DGTCVAARTRPVLSY'}, {'RRRPRPPYLPRPRPP', 'DLSPRPSPNPHPVSQ', 'GGRRRRRTWYFGGGK'}, {'DFSIVGSLPRDFELS', 'SLMRVQAHIRKRMVA', 'GSLLRVQAHIRKKMV'}, {'SQETFSDLWKLLPEN'}, {'QKVTFPKMKIPKFTF'}, {'TTGEIIGDIRQAHCN'}, {'ATEYRVRVNSAYQDK'}, {'NLGLEDIIRKALMGS'}, {'SAPATGGVKKPHRYR', 'APATGGVKKPHRYRP'}, {'KMLEGQNAHFRYKNR'}, {'FLNKDLEVDGHFVTM'}, {'ADSTITIRGYVRDNG'}, {'DGVFTTPCDPEYAGG'}, {'SKQFTSSTSYNRGDS'}, {'SIDMVDSPQLATLAD'}]\n"
          ],
          "name": "stdout"
        }
      ]
    },
    {
      "cell_type": "code",
      "metadata": {
        "id": "LxZM-exxLdcU",
        "colab_type": "code",
        "colab": {
          "base_uri": "https://localhost:8080/",
          "height": 521
        },
        "outputId": "e35b99f8-9413-45e8-e02f-18691a396b1f"
      },
      "source": [
        "novel_sub_categories = {}\n",
        "index = 0\n",
        "for category in setlist:\n",
        "    novel_sub_categories[index] = list(category)\n",
        "    index += 1\n",
        "\n",
        "result = novel_sub_categories\n",
        "pprint.pprint(result)"
      ],
      "execution_count": 16,
      "outputs": [
        {
          "output_type": "stream",
          "text": [
            "{0: ['ARTKQTARKSTGGKA'],\n",
            " 1: ['EPVDPKLEPWKHPGS'],\n",
            " 2: ['VQYLTRSAIRRASTI', 'STASTVEYSTVVHSG', 'KSAVTTVVNPKYEGK'],\n",
            " 3: ['KETAAAKFERQHMDS', 'KETAAACFERCHMDS', 'GELIGILNAAKVPAD'],\n",
            " 4: ['KMRMATPLLMQALPM', 'PVSKMRMATPLLMQA'],\n",
            " 5: ['ELNPNAEVWGAPVLH', 'HENIDWGEPKDKEVW'],\n",
            " 6: ['RKRTYETFKSIMKKS', 'LSRVKSLKKSLRQSF'],\n",
            " 7: ['PVLFPGQPFGQPPLG', 'SPGRLFPGAPPTAKK', 'YEPSTTARKVGRPGR'],\n",
            " 8: ['AVPIAQKSEPHSLSS', 'PQAQQKSLLQQLLTE'],\n",
            " 9: ['RTFRQVQSSISDFYD'],\n",
            " 10: ['RKTVAKPKGPSGSPW', 'RHKILHRLLQEGSPS', 'LTERHKILHRLLQEG'],\n",
            " 11: ['LPQDRGFLVVQGDPR'],\n",
            " 12: ['ECCHRQLLCCLRFV*'],\n",
            " 13: ['KKESRVVVWRLPPLH', 'APRRLPIFNRISVSE'],\n",
            " 14: ['ASEDELVAEFLQDQN'],\n",
            " 15: ['NTGRTEAWKVLSPQG', 'SPQGGGPWDSVARVL', 'DGTCVAARTRPVLSY'],\n",
            " 16: ['RRRPRPPYLPRPRPP', 'DLSPRPSPNPHPVSQ', 'GGRRRRRTWYFGGGK'],\n",
            " 17: ['DFSIVGSLPRDFELS', 'SLMRVQAHIRKRMVA', 'GSLLRVQAHIRKKMV'],\n",
            " 18: ['SQETFSDLWKLLPEN'],\n",
            " 19: ['QKVTFPKMKIPKFTF'],\n",
            " 20: ['TTGEIIGDIRQAHCN'],\n",
            " 21: ['ATEYRVRVNSAYQDK'],\n",
            " 22: ['NLGLEDIIRKALMGS'],\n",
            " 23: ['SAPATGGVKKPHRYR', 'APATGGVKKPHRYRP'],\n",
            " 24: ['KMLEGQNAHFRYKNR'],\n",
            " 25: ['FLNKDLEVDGHFVTM'],\n",
            " 26: ['ADSTITIRGYVRDNG'],\n",
            " 27: ['DGVFTTPCDPEYAGG'],\n",
            " 28: ['SKQFTSSTSYNRGDS'],\n",
            " 29: ['SIDMVDSPQLATLAD']}\n"
          ],
          "name": "stdout"
        }
      ]
    },
    {
      "cell_type": "code",
      "metadata": {
        "id": "-dc29J_bLdZl",
        "colab_type": "code",
        "colab": {}
      },
      "source": [
        "with open('clusters.json', 'w') as temp:\n",
        "    json.dump(result, temp)"
      ],
      "execution_count": 0,
      "outputs": []
    }
  ]
}